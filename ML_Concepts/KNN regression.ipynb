{
 "cells": [
  {
   "cell_type": "code",
   "execution_count": 1,
   "id": "ca735430",
   "metadata": {},
   "outputs": [],
   "source": [
    "import pandas as pd \n",
    "import numpy as np \n",
    "import matplotlib.pyplot as plt \n",
    "from  sklearn.metrics import r2_score\n",
    "import os\n"
   ]
  },
  {
   "cell_type": "code",
   "execution_count": 2,
   "id": "af1831b8",
   "metadata": {},
   "outputs": [
    {
     "data": {
      "text/html": [
       "<div>\n",
       "<style scoped>\n",
       "    .dataframe tbody tr th:only-of-type {\n",
       "        vertical-align: middle;\n",
       "    }\n",
       "\n",
       "    .dataframe tbody tr th {\n",
       "        vertical-align: top;\n",
       "    }\n",
       "\n",
       "    .dataframe thead th {\n",
       "        text-align: right;\n",
       "    }\n",
       "</style>\n",
       "<table border=\"1\" class=\"dataframe\">\n",
       "  <thead>\n",
       "    <tr style=\"text-align: right;\">\n",
       "      <th></th>\n",
       "      <th>Age</th>\n",
       "      <th>Height</th>\n",
       "    </tr>\n",
       "  </thead>\n",
       "  <tbody>\n",
       "    <tr>\n",
       "      <th>0</th>\n",
       "      <td>10</td>\n",
       "      <td>138</td>\n",
       "    </tr>\n",
       "    <tr>\n",
       "      <th>1</th>\n",
       "      <td>11</td>\n",
       "      <td>138</td>\n",
       "    </tr>\n",
       "    <tr>\n",
       "      <th>2</th>\n",
       "      <td>12</td>\n",
       "      <td>138</td>\n",
       "    </tr>\n",
       "    <tr>\n",
       "      <th>3</th>\n",
       "      <td>13</td>\n",
       "      <td>139</td>\n",
       "    </tr>\n",
       "    <tr>\n",
       "      <th>4</th>\n",
       "      <td>14</td>\n",
       "      <td>139</td>\n",
       "    </tr>\n",
       "    <tr>\n",
       "      <th>...</th>\n",
       "      <td>...</td>\n",
       "      <td>...</td>\n",
       "    </tr>\n",
       "    <tr>\n",
       "      <th>66</th>\n",
       "      <td>76</td>\n",
       "      <td>179</td>\n",
       "    </tr>\n",
       "    <tr>\n",
       "      <th>67</th>\n",
       "      <td>77</td>\n",
       "      <td>182</td>\n",
       "    </tr>\n",
       "    <tr>\n",
       "      <th>68</th>\n",
       "      <td>78</td>\n",
       "      <td>186</td>\n",
       "    </tr>\n",
       "    <tr>\n",
       "      <th>69</th>\n",
       "      <td>79</td>\n",
       "      <td>178</td>\n",
       "    </tr>\n",
       "    <tr>\n",
       "      <th>70</th>\n",
       "      <td>80</td>\n",
       "      <td>175</td>\n",
       "    </tr>\n",
       "  </tbody>\n",
       "</table>\n",
       "<p>71 rows × 2 columns</p>\n",
       "</div>"
      ],
      "text/plain": [
       "    Age  Height\n",
       "0    10     138\n",
       "1    11     138\n",
       "2    12     138\n",
       "3    13     139\n",
       "4    14     139\n",
       "..  ...     ...\n",
       "66   76     179\n",
       "67   77     182\n",
       "68   78     186\n",
       "69   79     178\n",
       "70   80     175\n",
       "\n",
       "[71 rows x 2 columns]"
      ]
     },
     "execution_count": 2,
     "metadata": {},
     "output_type": "execute_result"
    }
   ],
   "source": [
    "os.chdir('C:\\\\Sohan\\\\ML_Acmegrade\\\\ML Day11 5\\\\')\n",
    "data = pd.read_csv('Height_Weight_Dataset.csv') \n",
    "data\n"
   ]
  },
  {
   "cell_type": "code",
   "execution_count": 7,
   "id": "12acd3bf",
   "metadata": {},
   "outputs": [],
   "source": [
    "x = data.iloc[:, 0:1].values \n",
    "y = data.iloc[:, 1].values\n"
   ]
  },
  {
   "cell_type": "code",
   "execution_count": 8,
   "id": "2f16aecb",
   "metadata": {},
   "outputs": [
    {
     "data": {
      "text/plain": [
       "[]"
      ]
     },
     "execution_count": 8,
     "metadata": {},
     "output_type": "execute_result"
    },
    {
     "data": {
      "image/png": "[encoded data removed]",
      "text/plain": [
       "<Figure size 432x288 with 1 Axes>"
      ]
     },
     "metadata": {
      "needs_background": "light"
     },
     "output_type": "display_data"
    }
   ],
   "source": [
    "plt.plot(x,y)\n",
    "plt.xlabel('Age')\n",
    "plt.ylabel('Height')\n",
    "plt.plot()\n"
   ]
  },
  {
   "cell_type": "code",
   "execution_count": 10,
   "id": "cd28ac52",
   "metadata": {},
   "outputs": [],
   "source": [
    "from sklearn.model_selection import train_test_split\n",
    "x_train, x_test, y_train, y_test = train_test_split(x, y, test_size=0.3, random_state=0)\n"
   ]
  },
  {
   "cell_type": "code",
   "execution_count": 11,
   "id": "8538fbda",
   "metadata": {},
   "outputs": [],
   "source": [
    "from sklearn import neighbors\n",
    "from sklearn.metrics import mean_squared_error \n",
    "from math import sqrt\n",
    "import matplotlib.pyplot as plt\n",
    "%matplotlib inline\n"
   ]
  },
  {
   "cell_type": "code",
   "execution_count": 12,
   "id": "833fad4f",
   "metadata": {},
   "outputs": [
    {
     "name": "stdout",
     "output_type": "stream",
     "text": [
      "RMSE value for k=  1 is: 3.5161962919661303\n",
      "RMSE value for k=  2 is: 2.757221922020918\n",
      "RMSE value for k=  3 is: 2.1984843263788214\n",
      "RMSE value for k=  4 is: 2.040777481077427\n",
      "RMSE value for k=  5 is: 2.148572464769026\n",
      "RMSE value for k=  6 is: 1.9977891821114744\n",
      "RMSE value for k=  7 is: 2.3778117815072264\n",
      "RMSE value for k=  8 is: 2.463223820709172\n",
      "RMSE value for k=  9 is: 2.5063331678714675\n",
      "RMSE value for k=  10 is: 2.1202486989630573\n",
      "RMSE value for k=  11 is: 1.8876203122650856\n",
      "RMSE value for k=  12 is: 1.7773831632742882\n",
      "RMSE value for k=  13 is: 1.8534239138445838\n",
      "RMSE value for k=  14 is: 1.8330100350235996\n",
      "RMSE value for k=  15 is: 1.9323926656198536\n",
      "RMSE value for k=  16 is: 2.0205794904612704\n",
      "RMSE value for k=  17 is: 2.3012708990610076\n",
      "RMSE value for k=  18 is: 2.5430634512673307\n",
      "RMSE value for k=  19 is: 2.944953727191812\n",
      "RMSE value for k=  20 is: 3.3315809787819712\n"
     ]
    }
   ],
   "source": [
    "rmse_val =[]\n",
    "for K in range(20):\n",
    "    K = K+1\n",
    "    model = neighbors.KNeighborsRegressor(n_neighbors = K)\n",
    "    model.fit(x_train, y_train)  #fit the model\n",
    "    pred=model.predict(x_test) #make prediction on test set\n",
    "    error = sqrt(mean_squared_error(y_test,pred)) #calculate rmse\n",
    "    rmse_val.append(error) #store rmse values\n",
    "    print('RMSE value for k= ' , K , 'is:', error)\n"
   ]
  },
  {
   "cell_type": "code",
   "execution_count": 13,
   "id": "d8ff1e35",
   "metadata": {},
   "outputs": [
    {
     "data": {
      "text/plain": [
       "[<matplotlib.lines.Line2D at 0x25450acab80>]"
      ]
     },
     "execution_count": 13,
     "metadata": {},
     "output_type": "execute_result"
    },
    {
     "data": {
      "image/png": "[encoded data removed]",
      "text/plain": [
       "<Figure size 432x288 with 1 Axes>"
      ]
     },
     "metadata": {
      "needs_background": "light"
     },
     "output_type": "display_data"
    }
   ],
   "source": [
    "#for k=12 rmse is the lowest means error is least for k - 12\n",
    "plt.plot(range(1,21),rmse_val)"
   ]
  },
  {
   "cell_type": "code",
   "execution_count": 15,
   "id": "82de1496",
   "metadata": {},
   "outputs": [
    {
     "name": "stdout",
     "output_type": "stream",
     "text": [
      "RMSE value for k=  1 is: 0.9361720283300623\n",
      "RMSE value for k=  2 is: 0.9607528372728048\n",
      "RMSE value for k=  3 is: 0.9750476434280513\n",
      "RMSE value for k=  4 is: 0.9784991253519925\n",
      "RMSE value for k=  5 is: 0.9761677617544159\n",
      "RMSE value for k=  6 is: 0.979395402527709\n",
      "RMSE value for k=  7 is: 0.970810962835514\n",
      "RMSE value for k=  8 is: 0.9686763349048554\n",
      "RMSE value for k=  9 is: 0.9675703379233259\n",
      "RMSE value for k=  10 is: 0.9767919617714822\n",
      "RMSE value for k=  11 is: 0.9816052409063758\n",
      "RMSE value for k=  12 is: 0.9836910145916887\n",
      "RMSE value for k=  13 is: 0.9822656879966837\n",
      "RMSE value for k=  14 is: 0.9826541931731306\n",
      "RMSE value for k=  15 is: 0.9807222838505372\n",
      "RMSE value for k=  16 is: 0.9789226163175185\n",
      "RMSE value for k=  17 is: 0.9726598866006199\n",
      "RMSE value for k=  18 is: 0.9666128604071262\n",
      "RMSE value for k=  19 is: 0.9552264251603629\n",
      "RMSE value for k=  20 is: 0.9426985557641436\n"
     ]
    }
   ],
   "source": [
    "rmse_val =[]\n",
    "for K in range(20):\n",
    "    K = K+1\n",
    "    model = neighbors.KNeighborsRegressor(n_neighbors = K)\n",
    "    model.fit(x_train, y_train)  #fit the model\n",
    "    pred=model.predict(x_test) #make prediction on test set\n",
    "    acc = r2_score(y_test,pred) #calculate accuracy\n",
    "    rmse_val.append(acc) #store rmse values\n",
    "    print('RMSE value for k= ' , K , 'is:', acc)"
   ]
  },
  {
   "cell_type": "code",
   "execution_count": 16,
   "id": "3cc37ee6",
   "metadata": {},
   "outputs": [
    {
     "data": {
      "text/plain": [
       "[<matplotlib.lines.Line2D at 0x25450c95c10>]"
      ]
     },
     "execution_count": 16,
     "metadata": {},
     "output_type": "execute_result"
    },
    {
     "data": {
      "image/png": "[encoded data removed]",
      "text/plain": [
       "<Figure size 432x288 with 1 Axes>"
      ]
     },
     "metadata": {
      "needs_background": "light"
     },
     "output_type": "display_data"
    }
   ],
   "source": [
    "plt.plot(range(1,21),rmse_val)"
   ]
  },
  {
   "cell_type": "code",
   "execution_count": 17,
   "id": "f5fd2cad",
   "metadata": {},
   "outputs": [
    {
     "data": {
      "text/plain": [
       "KNeighborsRegressor(n_neighbors=12)"
      ]
     },
     "execution_count": 17,
     "metadata": {},
     "output_type": "execute_result"
    }
   ],
   "source": [
    "model = neighbors.KNeighborsRegressor(n_neighbors = 12)\n",
    "model.fit(x_train, y_train)\n"
   ]
  },
  {
   "cell_type": "code",
   "execution_count": 24,
   "id": "d03b5cd7",
   "metadata": {},
   "outputs": [
    {
     "data": {
      "text/plain": [
       "array([139.91666667, 139.91666667, 139.91666667, 139.91666667,\n",
       "       139.91666667, 139.91666667, 139.91666667, 140.25      ,\n",
       "       140.66666667, 141.08333333, 141.08333333, 141.41666667,\n",
       "       141.83333333, 142.16666667, 142.16666667, 142.91666667,\n",
       "       142.91666667, 143.33333333, 143.83333333, 144.25      ,\n",
       "       144.25      , 144.83333333, 144.83333333, 145.58333333,\n",
       "       145.58333333, 146.58333333, 146.58333333, 147.66666667,\n",
       "       148.83333333, 150.        , 151.25      , 153.83333333,\n",
       "       153.83333333, 153.83333333, 155.33333333, 156.75      ,\n",
       "       158.25      , 158.25      , 158.25      , 159.66666667,\n",
       "       159.66666667, 161.08333333, 161.08333333, 161.08333333,\n",
       "       162.41666667, 163.75      , 165.08333333, 165.08333333,\n",
       "       166.91666667, 168.91666667, 168.91666667, 171.25      ,\n",
       "       172.75      , 172.75      , 174.25      , 175.58333333,\n",
       "       176.75      , 178.08333333, 178.08333333, 179.58333333,\n",
       "       179.58333333, 179.58333333, 179.58333333, 179.58333333,\n",
       "       179.58333333, 179.58333333, 179.58333333, 179.58333333,\n",
       "       179.58333333, 179.58333333, 179.58333333])"
      ]
     },
     "execution_count": 24,
     "metadata": {},
     "output_type": "execute_result"
    }
   ],
   "source": [
    "y_pred = model.predict(x)\n",
    "y_pred\n"
   ]
  },
  {
   "cell_type": "code",
   "execution_count": 27,
   "id": "4769b0b4",
   "metadata": {},
   "outputs": [
    {
     "data": {
      "text/plain": [
       "array([138, 138, 138, 139, 139, 139, 140, 140, 140, 141, 141, 141, 142,\n",
       "       142, 142, 143, 143, 143, 144, 144, 145, 145, 146, 146, 147, 147,\n",
       "       148, 148, 149, 149, 150, 150, 151, 152, 153, 155, 156, 157, 158,\n",
       "       159, 160, 161, 162, 163, 164, 164, 165, 166, 167, 168, 169, 170,\n",
       "       171, 172, 173, 175, 178, 180, 183, 180, 188, 179, 182, 182, 180,\n",
       "       178, 179, 182, 186, 178, 175], dtype=int64)"
      ]
     },
     "execution_count": 27,
     "metadata": {},
     "output_type": "execute_result"
    }
   ],
   "source": [
    "y"
   ]
  },
  {
   "cell_type": "code",
   "execution_count": 28,
   "id": "ebe0df34",
   "metadata": {},
   "outputs": [
    {
     "data": {
      "text/plain": [
       "0.9841504855224907"
      ]
     },
     "execution_count": 28,
     "metadata": {},
     "output_type": "execute_result"
    }
   ],
   "source": [
    "r2_score(y,y_pred)"
   ]
  },
  {
   "cell_type": "code",
   "execution_count": 29,
   "id": "88a6fae5",
   "metadata": {},
   "outputs": [
    {
     "data": {
      "text/plain": [
       "[<matplotlib.lines.Line2D at 0x25450c5fdc0>]"
      ]
     },
     "execution_count": 29,
     "metadata": {},
     "output_type": "execute_result"
    },
    {
     "data": {
      "image/png": "[encoded data removed]",
      "text/plain": [
       "<Figure size 432x288 with 1 Axes>"
      ]
     },
     "metadata": {
      "needs_background": "light"
     },
     "output_type": "display_data"
    }
   ],
   "source": [
    "plt.plot(x,y)\n",
    "plt.plot(x,y_pred)"
   ]
  },
  {
   "cell_type": "code",
   "execution_count": null,
   "id": "776dbe10",
   "metadata": {},
   "outputs": [],
   "source": []
  }
 ],
 "metadata": {
  "kernelspec": {
   "display_name": "Python 3 (ipykernel)",
   "language": "python",
   "name": "python3"
  },
  "language_info": {
   "codemirror_mode": {
    "name": "ipython",
    "version": 3
   },
   "file_extension": ".py",
   "mimetype": "text/x-python",
   "name": "python",
   "nbconvert_exporter": "python",
   "pygments_lexer": "ipython3",
   "version": "3.9.12"
  }
 },
 "nbformat": 4,
 "nbformat_minor": 5
}
