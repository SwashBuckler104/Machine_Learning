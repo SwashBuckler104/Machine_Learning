{
 "cells": [
  {
   "cell_type": "code",
   "execution_count": null,
   "id": "6503f47e",
   "metadata": {},
   "outputs": [],
   "source": [
    "#Random Forest"
   ]
  },
  {
   "cell_type": "code",
   "execution_count": 1,
   "id": "324d7c30",
   "metadata": {},
   "outputs": [],
   "source": [
    "import numpy as np\n",
    "import pandas as pd\n",
    "import matplotlib.pyplot as plt\n",
    "import os\n",
    "import seaborn as sns\n",
    "from sklearn.metrics import  r2_score\n"
   ]
  },
  {
   "cell_type": "code",
   "execution_count": 2,
   "id": "65872eab",
   "metadata": {},
   "outputs": [
    {
     "name": "stdout",
     "output_type": "stream",
     "text": [
      "            Position  Level  Salary\n",
      "0   Busienss Analyst      1   45000\n",
      "1  Junior Consultant      2   50000\n",
      "2  Senior Consultant      3   60000\n",
      "3            Manager      4  120000\n",
      "4    Country Manager      5  140000\n",
      "5     Region Manager      6  130000\n",
      "6            Partnor      7  100000\n",
      "7     Senior Partnor      8   90000\n",
      "8            C Level      9   95000\n",
      "9               CEO      10   85000\n"
     ]
    }
   ],
   "source": [
    "os.chdir('C:\\\\Sohan\\\\ML_Acmegrade\\\\ML Day10 5\\\\')\n",
    "df1= pd.read_csv('Position Salary .csv')\n",
    "print (df1)\n"
   ]
  },
  {
   "cell_type": "code",
   "execution_count": 3,
   "id": "40f93dec",
   "metadata": {},
   "outputs": [
    {
     "name": "stdout",
     "output_type": "stream",
     "text": [
      "[[ 1]\n",
      " [ 2]\n",
      " [ 3]\n",
      " [ 4]\n",
      " [ 5]\n",
      " [ 6]\n",
      " [ 7]\n",
      " [ 8]\n",
      " [ 9]\n",
      " [10]]\n"
     ]
    }
   ],
   "source": [
    "x= df1.iloc[:,1:2].values\n",
    "print (x)\n"
   ]
  },
  {
   "cell_type": "code",
   "execution_count": 4,
   "id": "e07e23ea",
   "metadata": {},
   "outputs": [
    {
     "name": "stdout",
     "output_type": "stream",
     "text": [
      "[ 45000  50000  60000 120000 140000 130000 100000  90000  95000  85000]\n"
     ]
    }
   ],
   "source": [
    "y= df1.iloc[:,2].values\n",
    "print (y)\n"
   ]
  },
  {
   "cell_type": "code",
   "execution_count": 11,
   "id": "77c7f758",
   "metadata": {},
   "outputs": [
    {
     "data": {
      "text/plain": [
       "RandomForestRegressor(n_estimators=5)"
      ]
     },
     "execution_count": 11,
     "metadata": {},
     "output_type": "execute_result"
    }
   ],
   "source": [
    "from sklearn.ensemble import RandomForestRegressor\n",
    "random_reg= RandomForestRegressor (n_estimators =5)#5 is no. of decision trees\n",
    "random_reg.fit(x,y)\n"
   ]
  },
  {
   "cell_type": "code",
   "execution_count": 15,
   "id": "ff339e61",
   "metadata": {},
   "outputs": [
    {
     "data": {
      "text/plain": [
       "[<matplotlib.lines.Line2D at 0x21407e65ac0>]"
      ]
     },
     "execution_count": 15,
     "metadata": {},
     "output_type": "execute_result"
    },
    {
     "data": {
      "image/png": "[encoded data removed]",
      "text/plain": [
       "<Figure size 432x288 with 1 Axes>"
      ]
     },
     "metadata": {
      "needs_background": "light"
     },
     "output_type": "display_data"
    }
   ],
   "source": [
    "x_grid = np.arange(min(x),max(x),0.01)\n",
    "x_grid = x_grid.reshape((len(x_grid),1))\n",
    "plt.scatter(x,y,color= 'r')\n",
    "plt.plot(x_grid, random_reg.predict(x_grid))\n"
   ]
  },
  {
   "cell_type": "code",
   "execution_count": null,
   "id": "7e96b7ae",
   "metadata": {},
   "outputs": [],
   "source": [
    "\n"
   ]
  },
  {
   "cell_type": "code",
   "execution_count": 17,
   "id": "91c5d07c",
   "metadata": {},
   "outputs": [
    {
     "data": {
      "text/plain": [
       "array([ 45000,  50000,  60000, 120000, 140000, 130000, 100000,  90000,\n",
       "        95000,  85000], dtype=int64)"
      ]
     },
     "execution_count": 17,
     "metadata": {},
     "output_type": "execute_result"
    }
   ],
   "source": [
    "y\n"
   ]
  },
  {
   "cell_type": "code",
   "execution_count": 20,
   "id": "1617608c",
   "metadata": {},
   "outputs": [
    {
     "data": {
      "text/plain": [
       "array([ 51000.,  51000.,  51000.,  51000.,  51000.,  51000.,  51000.,\n",
       "        51000.,  51000.,  51000.,  51000.,  51000.,  51000.,  51000.,\n",
       "        51000.,  51000.,  51000.,  51000.,  51000.,  51000.,  51000.,\n",
       "        51000.,  51000.,  51000.,  51000.,  51000.,  51000.,  51000.,\n",
       "        51000.,  51000.,  51000.,  51000.,  51000.,  51000.,  51000.,\n",
       "        51000.,  51000.,  51000.,  51000.,  51000.,  51000.,  51000.,\n",
       "        51000.,  51000.,  51000.,  51000.,  51000.,  51000.,  51000.,\n",
       "        51000.,  51000.,  53000.,  53000.,  53000.,  53000.,  53000.,\n",
       "        53000.,  53000.,  53000.,  53000.,  53000.,  53000.,  53000.,\n",
       "        53000.,  53000.,  53000.,  53000.,  53000.,  53000.,  53000.,\n",
       "        53000.,  53000.,  53000.,  53000.,  53000.,  53000.,  53000.,\n",
       "        53000.,  53000.,  53000.,  53000.,  53000.,  53000.,  53000.,\n",
       "        53000.,  53000.,  53000.,  53000.,  53000.,  53000.,  53000.,\n",
       "        53000.,  53000.,  53000.,  53000.,  53000.,  53000.,  53000.,\n",
       "        53000.,  53000.,  53000.,  53000.,  53000.,  53000.,  53000.,\n",
       "        53000.,  53000.,  53000.,  53000.,  53000.,  53000.,  53000.,\n",
       "        53000.,  53000.,  53000.,  53000.,  53000.,  53000.,  53000.,\n",
       "        53000.,  53000.,  53000.,  53000.,  53000.,  53000.,  53000.,\n",
       "        53000.,  53000.,  53000.,  53000.,  53000.,  53000.,  53000.,\n",
       "        53000.,  53000.,  53000.,  53000.,  53000.,  53000.,  53000.,\n",
       "        53000.,  53000.,  53000.,  53000.,  53000.,  53000.,  53000.,\n",
       "        53000.,  53000.,  53000.,  53000.,  70000.,  70000.,  70000.,\n",
       "        70000.,  70000.,  70000.,  70000.,  70000.,  70000.,  70000.,\n",
       "        70000.,  70000.,  70000.,  70000.,  70000.,  70000.,  70000.,\n",
       "        70000.,  70000.,  70000.,  70000.,  70000.,  70000.,  70000.,\n",
       "        70000.,  70000.,  70000.,  70000.,  70000.,  70000.,  70000.,\n",
       "        70000.,  70000.,  70000.,  70000.,  70000.,  70000.,  70000.,\n",
       "        70000.,  70000.,  70000.,  70000.,  70000.,  70000.,  70000.,\n",
       "        70000.,  70000.,  70000.,  70000.,  70000.,  84000.,  84000.,\n",
       "        84000.,  84000.,  84000.,  84000.,  84000.,  84000.,  84000.,\n",
       "        84000.,  84000.,  84000.,  84000.,  84000.,  84000.,  84000.,\n",
       "        84000.,  84000.,  84000.,  84000.,  84000.,  84000.,  84000.,\n",
       "        84000.,  84000.,  84000.,  84000.,  84000.,  84000.,  84000.,\n",
       "        84000.,  84000.,  84000.,  84000.,  84000.,  84000.,  84000.,\n",
       "        84000.,  84000.,  84000.,  84000.,  84000.,  84000.,  84000.,\n",
       "        84000.,  84000.,  84000.,  84000.,  84000.,  84000., 108000.,\n",
       "       108000., 108000., 108000., 108000., 108000., 108000., 108000.,\n",
       "       108000., 108000., 108000., 108000., 108000., 108000., 108000.,\n",
       "       108000., 108000., 108000., 108000., 108000., 108000., 108000.,\n",
       "       108000., 108000., 108000., 108000., 108000., 108000., 108000.,\n",
       "       108000., 108000., 108000., 108000., 108000., 108000., 108000.,\n",
       "       108000., 108000., 108000., 108000., 108000., 108000., 108000.,\n",
       "       108000., 108000., 108000., 108000., 108000., 108000., 108000.,\n",
       "       124000., 124000., 124000., 124000., 124000., 124000., 124000.,\n",
       "       124000., 124000., 124000., 124000., 124000., 124000., 124000.,\n",
       "       124000., 124000., 124000., 124000., 124000., 124000., 124000.,\n",
       "       124000., 124000., 124000., 124000., 124000., 124000., 124000.,\n",
       "       124000., 124000., 124000., 124000., 124000., 124000., 124000.,\n",
       "       124000., 124000., 124000., 124000., 124000., 124000., 124000.,\n",
       "       124000., 124000., 124000., 124000., 124000., 124000., 124000.,\n",
       "       124000., 136000., 136000., 136000., 136000., 136000., 136000.,\n",
       "       136000., 136000., 136000., 136000., 136000., 136000., 136000.,\n",
       "       136000., 136000., 136000., 136000., 136000., 136000., 136000.,\n",
       "       136000., 136000., 136000., 136000., 136000., 136000., 136000.,\n",
       "       136000., 136000., 136000., 136000., 136000., 136000., 136000.,\n",
       "       136000., 136000., 136000., 136000., 136000., 136000., 136000.,\n",
       "       136000., 136000., 136000., 136000., 136000., 136000., 136000.,\n",
       "       136000., 136000., 138000., 138000., 138000., 138000., 138000.,\n",
       "       138000., 138000., 138000., 138000., 138000., 138000., 138000.,\n",
       "       138000., 138000., 138000., 138000., 138000., 138000., 138000.,\n",
       "       138000., 138000., 138000., 138000., 138000., 138000., 138000.,\n",
       "       138000., 138000., 138000., 138000., 138000., 138000., 138000.,\n",
       "       138000., 138000., 138000., 138000., 138000., 138000., 138000.,\n",
       "       138000., 138000., 138000., 138000., 138000., 138000., 138000.,\n",
       "       138000., 138000., 138000., 132000., 132000., 132000., 132000.,\n",
       "       132000., 132000., 132000., 132000., 132000., 132000., 132000.,\n",
       "       132000., 132000., 132000., 132000., 132000., 132000., 132000.,\n",
       "       132000., 132000., 132000., 132000., 132000., 132000., 132000.,\n",
       "       132000., 132000., 132000., 132000., 132000., 132000., 132000.,\n",
       "       132000., 132000., 132000., 132000., 132000., 132000., 132000.,\n",
       "       132000., 132000., 132000., 132000., 132000., 132000., 132000.,\n",
       "       132000., 132000., 132000., 132000., 132000., 132000., 132000.,\n",
       "       132000., 132000., 132000., 132000., 132000., 132000., 132000.,\n",
       "       132000., 132000., 132000., 132000., 132000., 132000., 132000.,\n",
       "       132000., 132000., 132000., 132000., 132000., 132000., 132000.,\n",
       "       132000., 132000., 132000., 132000., 132000., 132000., 132000.,\n",
       "       132000., 132000., 132000., 132000., 132000., 132000., 132000.,\n",
       "       132000., 132000., 132000., 132000., 132000., 132000., 132000.,\n",
       "       132000., 132000., 132000., 132000., 132000., 116000., 116000.,\n",
       "       116000., 116000., 116000., 116000., 116000., 116000., 116000.,\n",
       "       116000., 116000., 116000., 116000., 116000., 116000., 116000.,\n",
       "       116000., 116000., 116000., 116000., 116000., 116000., 116000.,\n",
       "       116000., 116000., 116000., 116000., 116000., 116000., 116000.,\n",
       "       116000., 116000., 116000., 116000., 116000., 116000., 116000.,\n",
       "       116000., 116000., 116000., 116000., 116000., 116000., 116000.,\n",
       "       116000., 116000., 116000., 116000., 116000., 116000., 108000.,\n",
       "       108000., 108000., 108000., 108000., 108000., 108000., 108000.,\n",
       "       108000., 108000., 108000., 108000., 108000., 108000., 108000.,\n",
       "       108000., 108000., 108000., 108000., 108000., 108000., 108000.,\n",
       "       108000., 108000., 108000., 108000., 108000., 108000., 108000.,\n",
       "       108000., 108000., 108000., 108000., 108000., 108000., 108000.,\n",
       "       108000., 108000., 108000., 108000., 108000., 108000., 108000.,\n",
       "       108000., 108000., 108000., 108000., 108000., 108000., 108000.,\n",
       "        94000.,  94000.,  94000.,  94000.,  94000.,  94000.,  94000.,\n",
       "        94000.,  94000.,  94000.,  94000.,  94000.,  94000.,  94000.,\n",
       "        94000.,  94000.,  94000.,  94000.,  94000.,  94000.,  94000.,\n",
       "        94000.,  94000.,  94000.,  94000.,  94000.,  94000.,  94000.,\n",
       "        94000.,  94000.,  94000.,  94000.,  94000.,  94000.,  94000.,\n",
       "        94000.,  94000.,  94000.,  94000.,  94000.,  94000.,  94000.,\n",
       "        94000.,  94000.,  94000.,  94000.,  94000.,  94000.,  94000.,\n",
       "        94000.,  93000.,  93000.,  93000.,  93000.,  93000.,  93000.,\n",
       "        93000.,  93000.,  93000.,  93000.,  93000.,  93000.,  93000.,\n",
       "        93000.,  93000.,  93000.,  93000.,  93000.,  93000.,  93000.,\n",
       "        93000.,  93000.,  93000.,  93000.,  93000.,  93000.,  93000.,\n",
       "        93000.,  93000.,  93000.,  93000.,  93000.,  93000.,  93000.,\n",
       "        93000.,  93000.,  93000.,  93000.,  93000.,  93000.,  93000.,\n",
       "        93000.,  93000.,  93000.,  93000.,  93000.,  93000.,  93000.,\n",
       "        93000.,  93000.,  95000.,  95000.,  95000.,  95000.,  95000.,\n",
       "        95000.,  95000.,  95000.,  95000.,  95000.,  95000.,  95000.,\n",
       "        95000.,  95000.,  95000.,  95000.,  95000.,  95000.,  95000.,\n",
       "        95000.,  95000.,  95000.,  95000.,  95000.,  95000.,  95000.,\n",
       "        95000.,  95000.,  95000.,  95000.,  95000.,  95000.,  95000.,\n",
       "        95000.,  95000.,  95000.,  95000.,  95000.,  95000.,  95000.,\n",
       "        95000.,  95000.,  95000.,  95000.,  95000.,  95000.,  95000.,\n",
       "        95000.,  95000.,  95000.,  95000.,  95000.,  95000.,  95000.,\n",
       "        95000.,  95000.,  95000.,  95000.,  95000.,  95000.,  95000.,\n",
       "        95000.,  95000.,  95000.,  95000.,  95000.,  95000.,  95000.,\n",
       "        95000.,  95000.,  95000.,  95000.,  95000.,  95000.,  95000.,\n",
       "        95000.,  95000.,  95000.,  95000.,  95000.,  95000.,  95000.,\n",
       "        95000.,  95000.,  95000.,  95000.,  95000.,  95000.,  95000.,\n",
       "        95000.,  95000.,  95000.,  95000.,  95000.,  95000.,  95000.,\n",
       "        95000.,  95000.,  95000.,  95000.,  87000.,  87000.,  87000.,\n",
       "        87000.,  87000.,  87000.,  87000.,  87000.,  87000.,  87000.,\n",
       "        87000.,  87000.,  87000.,  87000.,  87000.,  87000.,  87000.,\n",
       "        87000.,  87000.,  87000.,  87000.,  87000.,  87000.,  87000.,\n",
       "        87000.,  87000.,  87000.,  87000.,  87000.,  87000.,  87000.,\n",
       "        87000.,  87000.,  87000.,  87000.,  87000.,  87000.,  87000.,\n",
       "        87000.,  87000.,  87000.,  87000.,  87000.,  87000.,  87000.,\n",
       "        87000.,  87000.,  87000.,  87000.])"
      ]
     },
     "execution_count": 20,
     "metadata": {},
     "output_type": "execute_result"
    }
   ],
   "source": [
    "y_pred = random_reg.predict(x_grid)\n",
    "y_pred "
   ]
  },
  {
   "cell_type": "code",
   "execution_count": 22,
   "id": "2b4e89b7",
   "metadata": {},
   "outputs": [
    {
     "data": {
      "text/plain": [
       "array([138000.])"
      ]
     },
     "execution_count": 22,
     "metadata": {},
     "output_type": "execute_result"
    }
   ],
   "source": [
    "random_reg.predict([[5.5]])#unlike decision tree it can predict other values than input hence superior"
   ]
  },
  {
   "cell_type": "code",
   "execution_count": 23,
   "id": "e250dcf9",
   "metadata": {},
   "outputs": [
    {
     "data": {
      "text/plain": [
       "array([95000.])"
      ]
     },
     "execution_count": 23,
     "metadata": {},
     "output_type": "execute_result"
    }
   ],
   "source": [
    "random_reg.predict([[9.5]])"
   ]
  },
  {
   "cell_type": "code",
   "execution_count": 25,
   "id": "d9ea115f",
   "metadata": {},
   "outputs": [
    {
     "data": {
      "text/plain": [
       "array([87000.])"
      ]
     },
     "execution_count": 25,
     "metadata": {},
     "output_type": "execute_result"
    }
   ],
   "source": [
    "random_reg.predict([[11]])"
   ]
  },
  {
   "cell_type": "code",
   "execution_count": null,
   "id": "6f42b2f7",
   "metadata": {},
   "outputs": [],
   "source": []
  }
 ],
 "metadata": {
  "kernelspec": {
   "display_name": "Python 3 (ipykernel)",
   "language": "python",
   "name": "python3"
  },
  "language_info": {
   "codemirror_mode": {
    "name": "ipython",
    "version": 3
   },
   "file_extension": ".py",
   "mimetype": "text/x-python",
   "name": "python",
   "nbconvert_exporter": "python",
   "pygments_lexer": "ipython3",
   "version": "3.9.12"
  }
 },
 "nbformat": 4,
 "nbformat_minor": 5
}
