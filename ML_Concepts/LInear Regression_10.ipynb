{
 "cells": [
  {
   "cell_type": "code",
   "execution_count": 3,
   "id": "de7e27c8",
   "metadata": {},
   "outputs": [],
   "source": [
    "import numpy as np\n",
    "import pandas as pd\n",
    "import os\n",
    "import matplotlib.pyplot as plt\n"
   ]
  },
  {
   "cell_type": "code",
   "execution_count": 4,
   "id": "c7919225",
   "metadata": {},
   "outputs": [
    {
     "data": {
      "text/plain": [
       "'C:\\\\Sohan\\\\ML_Acmegrade\\\\ML Day9 4'"
      ]
     },
     "execution_count": 4,
     "metadata": {},
     "output_type": "execute_result"
    }
   ],
   "source": [
    "os.chdir('C:\\Sohan\\ML_Acmegrade\\ML Day9 4\\\\')\n",
    "os.getcwd()\n"
   ]
  },
  {
   "cell_type": "code",
   "execution_count": 5,
   "id": "03a90d0c",
   "metadata": {},
   "outputs": [
    {
     "name": "stdout",
     "output_type": "stream",
     "text": [
      "    YearsExperience  Salary\n",
      "0               1.1   39343\n",
      "1               1.3   46205\n",
      "2               1.5   37731\n",
      "3               2.0   43525\n",
      "4               2.2   39891\n",
      "5               2.9   56642\n",
      "6               3.0   60150\n",
      "7               3.2   54445\n",
      "8               3.2   64445\n",
      "9               3.7   57189\n",
      "10              3.9   63218\n",
      "11              4.0   55794\n",
      "12              4.0   56957\n",
      "13              4.1   57081\n",
      "14              4.5   61111\n",
      "15              4.9   67938\n",
      "16              5.1   66029\n",
      "17              5.3   83088\n",
      "18              5.9   81363\n",
      "19              6.0   93940\n",
      "20              6.8   91738\n",
      "21              7.1   98273\n",
      "22              7.9  101302\n",
      "23              8.2  113812\n",
      "24              8.7  109431\n",
      "25              9.0  105582\n",
      "26              9.5  116969\n",
      "27              9.6  112635\n",
      "28             10.3  122391\n",
      "29             10.5  121872\n"
     ]
    }
   ],
   "source": [
    "df1= pd.read_csv('Salary_Data.csv')\n",
    "print (df1)\n"
   ]
  },
  {
   "cell_type": "code",
   "execution_count": 6,
   "id": "9dd7494b",
   "metadata": {},
   "outputs": [
    {
     "data": {
      "image/png": "[encoded data removed]",
      "text/plain": [
       "<Figure size 432x288 with 1 Axes>"
      ]
     },
     "metadata": {
      "needs_background": "light"
     },
     "output_type": "display_data"
    }
   ],
   "source": [
    "plt.plot(df1[\"YearsExperience\"], df1[\"Salary\"])\n",
    "plt.show()\n",
    "#to check if the data is linear"
   ]
  },
  {
   "cell_type": "code",
   "execution_count": null,
   "id": "093ac105",
   "metadata": {},
   "outputs": [],
   "source": [
    "# here x ins y ins, no pstterns repeated(no auto correlation),\n",
    "# no outliers, hence we can use linear regression\n"
   ]
  },
  {
   "cell_type": "code",
   "execution_count": 9,
   "id": "3692bad7",
   "metadata": {},
   "outputs": [
    {
     "name": "stdout",
     "output_type": "stream",
     "text": [
      "[[ 1.1]\n",
      " [ 1.3]\n",
      " [ 1.5]\n",
      " [ 2. ]\n",
      " [ 2.2]\n",
      " [ 2.9]\n",
      " [ 3. ]\n",
      " [ 3.2]\n",
      " [ 3.2]\n",
      " [ 3.7]\n",
      " [ 3.9]\n",
      " [ 4. ]\n",
      " [ 4. ]\n",
      " [ 4.1]\n",
      " [ 4.5]\n",
      " [ 4.9]\n",
      " [ 5.1]\n",
      " [ 5.3]\n",
      " [ 5.9]\n",
      " [ 6. ]\n",
      " [ 6.8]\n",
      " [ 7.1]\n",
      " [ 7.9]\n",
      " [ 8.2]\n",
      " [ 8.7]\n",
      " [ 9. ]\n",
      " [ 9.5]\n",
      " [ 9.6]\n",
      " [10.3]\n",
      " [10.5]]\n"
     ]
    }
   ],
   "source": [
    "x = df1.iloc[:,:-1].values\n",
    "print (x)\n"
   ]
  },
  {
   "cell_type": "code",
   "execution_count": 8,
   "id": "b99e4dfe",
   "metadata": {},
   "outputs": [
    {
     "name": "stdout",
     "output_type": "stream",
     "text": [
      "[ 39343  46205  37731  43525  39891  56642  60150  54445  64445  57189\n",
      "  63218  55794  56957  57081  61111  67938  66029  83088  81363  93940\n",
      "  91738  98273 101302 113812 109431 105582 116969 112635 122391 121872]\n"
     ]
    }
   ],
   "source": [
    "y = df1.iloc[:,1].values\n",
    "print (y)\n"
   ]
  },
  {
   "cell_type": "code",
   "execution_count": 11,
   "id": "d7488f5d",
   "metadata": {},
   "outputs": [],
   "source": [
    "from sklearn.model_selection import train_test_split\n",
    "x_train, x_test,y_train,y_test = train_test_split(x,y,test_size=0.2)\n"
   ]
  },
  {
   "cell_type": "code",
   "execution_count": 12,
   "id": "0ea18cca",
   "metadata": {},
   "outputs": [
    {
     "data": {
      "text/plain": [
       "array([[2.9],\n",
       "       [6.8],\n",
       "       [4. ],\n",
       "       [8.7],\n",
       "       [1.3],\n",
       "       [3.2]])"
      ]
     },
     "execution_count": 12,
     "metadata": {},
     "output_type": "execute_result"
    }
   ],
   "source": [
    "x_test"
   ]
  },
  {
   "cell_type": "code",
   "execution_count": 13,
   "id": "88985f5c",
   "metadata": {},
   "outputs": [
    {
     "data": {
      "text/plain": [
       "array([ 56642,  91738,  55794, 109431,  46205,  54445], dtype=int64)"
      ]
     },
     "execution_count": 13,
     "metadata": {},
     "output_type": "execute_result"
    }
   ],
   "source": [
    "y_test#coorespnding values of x_test"
   ]
  },
  {
   "cell_type": "code",
   "execution_count": 14,
   "id": "8e10b119",
   "metadata": {},
   "outputs": [
    {
     "data": {
      "text/plain": [
       "LinearRegression()"
      ]
     },
     "execution_count": 14,
     "metadata": {},
     "output_type": "execute_result"
    }
   ],
   "source": [
    "from sklearn.linear_model import LinearRegression\n",
    "reg = LinearRegression()\n",
    "reg.fit(x_train, y_train)\n"
   ]
  },
  {
   "cell_type": "code",
   "execution_count": 15,
   "id": "6b3dc170",
   "metadata": {},
   "outputs": [
    {
     "name": "stdout",
     "output_type": "stream",
     "text": [
      "[ 52686.29116482  89972.77203879  63202.99089851 108137.9806697\n",
      "  37389.27337037  55554.48200128]\n"
     ]
    }
   ],
   "source": [
    "y_pred= reg.predict(x_test)\n",
    "print (y_pred)\n"
   ]
  },
  {
   "cell_type": "code",
   "execution_count": 16,
   "id": "2280acfa",
   "metadata": {},
   "outputs": [
    {
     "data": {
      "text/plain": [
       "array([-3955.70883518, -1765.22796121,  7408.99089851, -1293.0193303 ,\n",
       "       -8815.72662963,  1109.48200128])"
      ]
     },
     "execution_count": 16,
     "metadata": {},
     "output_type": "execute_result"
    }
   ],
   "source": [
    "error = y_pred - y_test\n",
    "error"
   ]
  },
  {
   "cell_type": "code",
   "execution_count": 17,
   "id": "b0d7faf7",
   "metadata": {},
   "outputs": [
    {
     "data": {
      "text/plain": [
       "[<matplotlib.lines.Line2D at 0x183e50e16d0>]"
      ]
     },
     "execution_count": 17,
     "metadata": {},
     "output_type": "execute_result"
    },
    {
     "data": {
      "image/png": "[encoded data removed]",
      "text/plain": [
       "<Figure size 432x288 with 1 Axes>"
      ]
     },
     "metadata": {
      "needs_background": "light"
     },
     "output_type": "display_data"
    }
   ],
   "source": [
    "plt.scatter(x_test,y_test)\n",
    "plt.plot(x_test,y_pred,'r') #to visualize\n",
    "#y_pred will always be a straight line hence a drawback"
   ]
  },
  {
   "cell_type": "code",
   "execution_count": 18,
   "id": "2c89ad38",
   "metadata": {},
   "outputs": [
    {
     "data": {
      "text/plain": [
       "0.9519424707940509"
      ]
     },
     "execution_count": 18,
     "metadata": {},
     "output_type": "execute_result"
    }
   ],
   "source": [
    "#to check accuracy\n",
    "from sklearn.metrics import r2_score\n",
    "r2_score(y_test,y_pred)"
   ]
  },
  {
   "cell_type": "code",
   "execution_count": 19,
   "id": "b50ccd05",
   "metadata": {},
   "outputs": [
    {
     "data": {
      "text/plain": [
       "0.9567436549019968"
      ]
     },
     "execution_count": 19,
     "metadata": {},
     "output_type": "execute_result"
    }
   ],
   "source": [
    "r2_score(y,reg.predict(x))"
   ]
  },
  {
   "cell_type": "code",
   "execution_count": 20,
   "id": "eb8707c8",
   "metadata": {},
   "outputs": [
    {
     "data": {
      "text/plain": [
       "[<matplotlib.lines.Line2D at 0x183e4b637f0>]"
      ]
     },
     "execution_count": 20,
     "metadata": {},
     "output_type": "execute_result"
    },
    {
     "data": {
      "image/png": "[encoded data removed]",
      "text/plain": [
       "<Figure size 432x288 with 1 Axes>"
      ]
     },
     "metadata": {
      "needs_background": "light"
     },
     "output_type": "display_data"
    }
   ],
   "source": [
    "plt.plot(x,y)\n",
    "plt.plot(x,reg.predict(x),'r')"
   ]
  },
  {
   "cell_type": "code",
   "execution_count": 21,
   "id": "1c6ca98c",
   "metadata": {},
   "outputs": [
    {
     "name": "stdout",
     "output_type": "stream",
     "text": [
      "Coefficient [9560.63612153]\n",
      "Intercept 24960.446412381185\n"
     ]
    }
   ],
   "source": [
    "# y= mx +c (Coefficient and Interceptor Values) \n",
    "# Y= slope\n",
    "print ('Coefficient', reg.coef_)\n",
    "print ('Intercept', reg.intercept_)\n",
    "#This is what makes the model for prediction"
   ]
  },
  {
   "cell_type": "code",
   "execution_count": 25,
   "id": "5717491c",
   "metadata": {},
   "outputs": [
    {
     "name": "stdout",
     "output_type": "stream",
     "text": [
      "    YearsExperience  Salary  Salary Prediction\n",
      "0               1.1   39343       35477.146146\n",
      "1               1.3   46205       37389.273370\n",
      "2               1.5   37731       39301.400595\n",
      "3               2.0   43525       44081.718655\n",
      "4               2.2   39891       45993.845880\n",
      "5               2.9   56642       52686.291165\n",
      "6               3.0   60150       53642.354777\n",
      "7               3.2   54445       55554.482001\n",
      "8               3.2   64445       55554.482001\n",
      "9               3.7   57189       60334.800062\n",
      "10              3.9   63218       62246.927286\n",
      "11              4.0   55794       63202.990899\n",
      "12              4.0   56957       63202.990899\n",
      "13              4.1   57081       64159.054511\n",
      "14              4.5   61111       67983.308959\n",
      "15              4.9   67938       71807.563408\n",
      "16              5.1   66029       73719.690632\n",
      "17              5.3   83088       75631.817856\n",
      "18              5.9   81363       81368.199529\n",
      "19              6.0   93940       82324.263142\n",
      "20              6.8   91738       89972.772039\n",
      "21              7.1   98273       92840.962875\n",
      "22              7.9  101302      100489.471772\n",
      "23              8.2  113812      103357.662609\n",
      "24              8.7  109431      108137.980670\n",
      "25              9.0  105582      111006.171506\n",
      "26              9.5  116969      115786.489567\n",
      "27              9.6  112635      116742.553179\n",
      "28             10.3  122391      123434.998464\n",
      "29             10.5  121872      125347.125688\n"
     ]
    }
   ],
   "source": [
    "\n",
    "y_pred_final = pd.DataFrame(reg.predict(x),columns= ['Salary Prediction'])\n",
    "result = pd.concat([df1,y_pred_final], axis =1)\n",
    "print (result)\n",
    "result.to_excel(\"C:\\\\Sohan\\\\ML_Acmegrade\\\\ML Day9 4\\\\Simple Regression.xlsx\")\n"
   ]
  },
  {
   "cell_type": "code",
   "execution_count": 26,
   "id": "e71efbda",
   "metadata": {},
   "outputs": [
    {
     "data": {
      "text/plain": [
       "array([[ 1.1],\n",
       "       [ 1.3],\n",
       "       [ 1.5],\n",
       "       [ 2. ],\n",
       "       [ 2.2],\n",
       "       [ 2.9],\n",
       "       [ 3. ],\n",
       "       [ 3.2],\n",
       "       [ 3.2],\n",
       "       [ 3.7],\n",
       "       [ 3.9],\n",
       "       [ 4. ],\n",
       "       [ 4. ],\n",
       "       [ 4.1],\n",
       "       [ 4.5],\n",
       "       [ 4.9],\n",
       "       [ 5.1],\n",
       "       [ 5.3],\n",
       "       [ 5.9],\n",
       "       [ 6. ],\n",
       "       [ 6.8],\n",
       "       [ 7.1],\n",
       "       [ 7.9],\n",
       "       [ 8.2],\n",
       "       [ 8.7],\n",
       "       [ 9. ],\n",
       "       [ 9.5],\n",
       "       [ 9.6],\n",
       "       [10.3],\n",
       "       [10.5]])"
      ]
     },
     "execution_count": 26,
     "metadata": {},
     "output_type": "execute_result"
    }
   ],
   "source": [
    "#prediction of unknown data\n",
    "x"
   ]
  },
  {
   "cell_type": "code",
   "execution_count": 27,
   "id": "a0111039",
   "metadata": {},
   "outputs": [
    {
     "data": {
      "text/plain": [
       "array([168369.98823535])"
      ]
     },
     "execution_count": 27,
     "metadata": {},
     "output_type": "execute_result"
    }
   ],
   "source": [
    "reg.predict([[15]])"
   ]
  },
  {
   "cell_type": "code",
   "execution_count": 28,
   "id": "74167d7c",
   "metadata": {},
   "outputs": [
    {
     "data": {
      "text/plain": [
       "array([168369.98823535,  24960.44641238, 550795.43309658])"
      ]
     },
     "execution_count": 28,
     "metadata": {},
     "output_type": "execute_result"
    }
   ],
   "source": [
    "reg.predict([[15],[0],[55]])"
   ]
  },
  {
   "cell_type": "code",
   "execution_count": 29,
   "id": "4d2d055a",
   "metadata": {},
   "outputs": [
    {
     "data": {
      "text/plain": [
       "24960.446412381185"
      ]
     },
     "execution_count": 29,
     "metadata": {},
     "output_type": "execute_result"
    }
   ],
   "source": [
    "reg.intercept_#= to salary for zero year experience"
   ]
  },
  {
   "cell_type": "code",
   "execution_count": null,
   "id": "e939ae4d",
   "metadata": {},
   "outputs": [],
   "source": []
  },
  {
   "cell_type": "code",
   "execution_count": null,
   "id": "437307a6",
   "metadata": {},
   "outputs": [],
   "source": []
  },
  {
   "cell_type": "code",
   "execution_count": null,
   "id": "bee776d0",
   "metadata": {},
   "outputs": [],
   "source": []
  },
  {
   "cell_type": "code",
   "execution_count": null,
   "id": "a62a1b51",
   "metadata": {},
   "outputs": [],
   "source": []
  },
  {
   "cell_type": "code",
   "execution_count": null,
   "id": "25913c44",
   "metadata": {},
   "outputs": [],
   "source": []
  }
 ],
 "metadata": {
  "kernelspec": {
   "display_name": "Python 3 (ipykernel)",
   "language": "python",
   "name": "python3"
  },
  "language_info": {
   "codemirror_mode": {
    "name": "ipython",
    "version": 3
   },
   "file_extension": ".py",
   "mimetype": "text/x-python",
   "name": "python",
   "nbconvert_exporter": "python",
   "pygments_lexer": "ipython3",
   "version": "3.9.12"
  }
 },
 "nbformat": 4,
 "nbformat_minor": 5
}
